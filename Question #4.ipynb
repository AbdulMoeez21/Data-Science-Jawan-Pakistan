{
 "cells": [
  {
   "cell_type": "code",
   "execution_count": 1,
   "id": "33d16382",
   "metadata": {},
   "outputs": [
    {
     "name": "stdout",
     "output_type": "stream",
     "text": [
      "please enter the radius of the circle : 3\n",
      "Area of the circle with radius 3.0 is: 18.857142857142858\n"
     ]
    }
   ],
   "source": [
    "pi=22/7\n",
    "r = float(input (\"please enter the radius of the circle : \"))\n",
    "print (\"Area of the circle with radius \" + str(r) + \" is: \" + str(pi * r*2))"
   ]
  },
  {
   "cell_type": "code",
   "execution_count": null,
   "id": "a20e590c",
   "metadata": {},
   "outputs": [],
   "source": []
  }
 ],
 "metadata": {
  "kernelspec": {
   "display_name": "Python 3 (ipykernel)",
   "language": "python",
   "name": "python3"
  },
  "language_info": {
   "codemirror_mode": {
    "name": "ipython",
    "version": 3
   },
   "file_extension": ".py",
   "mimetype": "text/x-python",
   "name": "python",
   "nbconvert_exporter": "python",
   "pygments_lexer": "ipython3",
   "version": "3.9.7"
  }
 },
 "nbformat": 4,
 "nbformat_minor": 5
}
