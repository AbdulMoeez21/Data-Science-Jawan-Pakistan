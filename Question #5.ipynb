{
 "cells": [
  {
   "cell_type": "code",
   "execution_count": 1,
   "id": "ace2cb26",
   "metadata": {},
   "outputs": [
    {
     "name": "stdout",
     "output_type": "stream",
     "text": [
      "Enter your First Name : Abdul\n",
      "Enter your Last Name : Moiz\n",
      "Last Name: Moiz First Name: Abdul\n"
     ]
    }
   ],
   "source": [
    "f_name = input(\"Enter your First Name : \")\n",
    "l_name = input(\"Enter your Last Name : \")\n",
    "print ( \"Last Name: \" +l_name + \" First Name: \" + f_name)"
   ]
  },
  {
   "cell_type": "code",
   "execution_count": null,
   "id": "8ec23a73",
   "metadata": {},
   "outputs": [],
   "source": []
  }
 ],
 "metadata": {
  "kernelspec": {
   "display_name": "Python 3 (ipykernel)",
   "language": "python",
   "name": "python3"
  },
  "language_info": {
   "codemirror_mode": {
    "name": "ipython",
    "version": 3
   },
   "file_extension": ".py",
   "mimetype": "text/x-python",
   "name": "python",
   "nbconvert_exporter": "python",
   "pygments_lexer": "ipython3",
   "version": "3.9.7"
  }
 },
 "nbformat": 4,
 "nbformat_minor": 5
}
